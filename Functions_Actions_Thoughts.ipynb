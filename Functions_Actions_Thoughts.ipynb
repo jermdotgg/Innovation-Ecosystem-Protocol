{
 "cells": [
  {
   "cell_type": "code",
   "execution_count": null,
   "metadata": {},
   "outputs": [],
   "source": []
  },
  {
   "cell_type": "markdown",
   "metadata": {},
   "source": [
    "If we keep the AMM at $100,000 but we prolong the competition and continually engage like a funding ladder, the hypothesis would be that this would result in more trading throughout any single compeetition, allowing for the recooperation of the amount spent to intialize the ecosystem. A competition that last a year versus a month should have more trading volume in totality, even if the amount spent to intialize the AMM is the same"
   ]
  }
 ],
 "metadata": {
  "language_info": {
   "name": "python"
  },
  "orig_nbformat": 4
 },
 "nbformat": 4,
 "nbformat_minor": 2
}
